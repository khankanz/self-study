{
 "cells": [
  {
   "cell_type": "markdown",
   "metadata": {},
   "source": [
    "# Problem Set: Dictionary Comprehensions and Class Attributes\n",
    "\n",
    "This problem set will help you understand dictionary comprehensions, class attributes, and asynchronous programming in Python. We'll start with basic concepts and gradually increase the difficulty."
   ]
  },
  {
   "cell_type": "markdown",
   "metadata": {},
   "source": [
    "## Exercise 1: Basic Dictionary Comprehension\n",
    "\n",
    "Create a dictionary comprehension that takes a list of numbers and returns a dictionary where the keys are the numbers, and the values are the squares of those numbers."
   ]
  },
  {
   "cell_type": "code",
   "execution_count": null,
   "metadata": {},
   "outputs": [],
   "source": [
    "numbers = [1, 2, 3, 4, 5]\n",
    "# Your code here\n",
    "squared_dict = ...\n",
    "print(squared_dict)"
   ]
  },
  {
   "cell_type": "markdown",
   "metadata": {},
   "source": [
    "## Exercise 2: Filtering in Dictionary Comprehension\n",
    "\n",
    "Create a dictionary comprehension that takes a dictionary of student names and their scores, and returns a new dictionary with only the students who scored 80 or above."
   ]
  },
  {
   "cell_type": "code",
   "execution_count": null,
   "metadata": {},
   "outputs": [],
   "source": [
    "students = {'Alice': 85, 'Bob': 72, 'Charlie': 90, 'David': 78, 'Eve': 95}\n",
    "# Your code here\n",
    "high_scorers = ...\n",
    "print(high_scorers)"
   ]
  },
  {
   "cell_type": "markdown",
   "metadata": {},
   "source": [
    "## Exercise 3: Understanding `self.__dict__`\n",
    "\n",
    "Create a class called `Person` with attributes `name`, `age`, and `city`. Then, create a method that uses a dictionary comprehension to return a dictionary of the instance's attributes, excluding any that are set to `None`."
   ]
  },
  {
   "cell_type": "code",
   "execution_count": null,
   "metadata": {},
   "outputs": [],
   "source": [
    "class Person:\n",
    "    def __init__(self, name, age, city=None):\n",
    "        self.name = name\n",
    "        self.age = age\n",
    "        self.city = city\n",
    "    \n",
    "    def get_attributes(self):\n",
    "        # Your code here\n",
    "        return ...\n",
    "\n",
    "# Test your implementation\n",
    "p1 = Person(\"Alice\", 30, \"New York\")\n",
    "p2 = Person(\"Bob\", 25)\n",
    "print(p1.get_attributes())\n",
    "print(p2.get_attributes())"
   ]
  },
  {
   "cell_type": "markdown",
   "metadata": {},
   "source": [
    "## Exercise 4: Advanced Dictionary Comprehension\n",
    "\n",
    "Implement a class called `SearchParams` that mimics the behavior in the given code snippet. The class should have a method that returns a dictionary of its attributes, excluding `None` values and specific keys."
   ]
  },
  {
   "cell_type": "code",
   "execution_count": null,
   "metadata": {},
   "outputs": [],
   "source": [
    "class SearchParams:\n",
    "    def __init__(self, **kwargs):\n",
    "        self.__dict__.update(kwargs)\n",
    "    \n",
    "    def get_search_params(self):\n",
    "        # Your code here\n",
    "        return ...\n",
    "\n",
    "# Test your implementation\n",
    "params = SearchParams(client=\"test_client\", resource_type=\"book\", author=\"Jane Doe\", year=2023, genre=None)\n",
    "print(params.get_search_params())"
   ]
  },
  {
   "cell_type": "markdown",
   "metadata": {},
   "source": [
    "## Exercise 5: Asynchronous Programming with Classes\n",
    "\n",
    "Create a class called `ResourceManager` that simulates asynchronous resource management. Implement a method that updates a resource based on search parameters, similar to the given code snippet."
   ]
  },
  {
   "cell_type": "code",
   "execution_count": null,
   "metadata": {},
   "outputs": [],
   "source": [
    "import asyncio\n",
    "\n",
    "class ResourceManager:\n",
    "    def __init__(self, resource_type):\n",
    "        self.resource_type = resource_type\n",
    "        self.client = None\n",
    "    \n",
    "    async def update_resource(self, **search_params):\n",
    "        # Simulate API call\n",
    "        await asyncio.sleep(1)\n",
    "        \n",
    "        # Your code here\n",
    "        # Implement the update logic using search_params\n",
    "        ...\n",
    "        \n",
    "        return f\"Resource {self.resource_type} updated with params: {search_params}\"\n",
    "\n",
    "# Test your implementation\n",
    "async def main():\n",
    "    manager = ResourceManager(\"book\")\n",
    "    result = await manager.update_resource(author=\"Jane Doe\", year=2023)\n",
    "    print(result)\n",
    "\n",
    "asyncio.run(main())"
   ]
  }
 ],
 "metadata": {
  "kernelspec": {
   "display_name": "python3",
   "language": "python",
   "name": "python3"
  }
 },
 "nbformat": 4,
 "nbformat_minor": 4
}
